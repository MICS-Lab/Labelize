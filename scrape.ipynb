{
 "cells": [
  {
   "cell_type": "code",
   "execution_count": null,
   "metadata": {},
   "outputs": [],
   "source": [
    "import requests\n",
    "from bs4 import BeautifulSoup\n",
    "from PIL import Image\n",
    "from io import BytesIO\n",
    "import time\n",
    "import os"
   ]
  },
  {
   "cell_type": "code",
   "execution_count": null,
   "metadata": {},
   "outputs": [],
   "source": [
    "try:\n",
    "    os.mkdir(\"faces\")\n",
    "except:\n",
    "    pass\n",
    "try:\n",
    "    os.mkdir(\"small_faces\")\n",
    "except:\n",
    "    pass\n",
    "\n",
    "URL = \"https://thispersondoesnotexist.com\"\n",
    "response = requests.get(URL)\n",
    "soup = BeautifulSoup(response.text, \"html.parser\")\n",
    "img = soup.find('img')\n",
    "size = (340, 340)"
   ]
  },
  {
   "cell_type": "code",
   "execution_count": null,
   "metadata": {},
   "outputs": [],
   "source": [
    "for i in range(1000):\n",
    "    time.sleep(1)\n",
    "    img_raw = requests.get(URL+img.get('src')).content\n",
    "    im = Image.open(BytesIO(img_raw))\n",
    "    im_name = f'{int(time.time())}.png'\n",
    "    im.save(f\"faces/{im_name}\")\n",
    "    im_resized = im.resize(size)\n",
    "    im_resized.save(f'small_faces/{im_name}')"
   ]
  },
  {
   "cell_type": "code",
   "execution_count": null,
   "metadata": {},
   "outputs": [],
   "source": [
    "# from PIL import Image\n",
    "# import os\n",
    "\n",
    "# # Set the size of the output images\n",
    "# size = (340, 340)\n",
    "\n",
    "# # Loop through all the files in the source folder\n",
    "# for filename in os.listdir('faces'):\n",
    "#     # Open the image file\n",
    "#     with Image.open(f'faces/{filename}') as im:\n",
    "#         # Resize the image\n",
    "#         im_resized = im.resize(size)\n",
    "#         # Save the resized image to the destination folder\n",
    "#         im_resized.save(f'small_faces/{filename}')"
   ]
  },
  {
   "cell_type": "code",
   "execution_count": null,
   "metadata": {},
   "outputs": [],
   "source": [
    "# import pandas as pd\n",
    "\n",
    "# df = pd.read_csv('output.csv')\n",
    "# df_deduped = df.drop_duplicates(subset=['image path'], keep='last')\n",
    "# df_deduped.to_csv('output.csv', index=False)"
   ]
  }
 ],
 "metadata": {
  "kernelspec": {
   "display_name": "Python 3",
   "language": "python",
   "name": "python3"
  },
  "language_info": {
   "codemirror_mode": {
    "name": "ipython",
    "version": 3
   },
   "file_extension": ".py",
   "mimetype": "text/x-python",
   "name": "python",
   "nbconvert_exporter": "python",
   "pygments_lexer": "ipython3",
   "version": "3.10.7"
  },
  "orig_nbformat": 4,
  "vscode": {
   "interpreter": {
    "hash": "689ffbb94fe8f58a5045b4f3f0726e738a118a8a590ae859861904a2cad8ac3d"
   }
  }
 },
 "nbformat": 4,
 "nbformat_minor": 2
}
